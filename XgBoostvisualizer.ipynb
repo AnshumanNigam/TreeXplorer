{
 "cells": [
  {
   "cell_type": "code",
   "execution_count": 7,
   "id": "41a23e7b-bf75-4449-9984-6144b442a89d",
   "metadata": {},
   "outputs": [],
   "source": [
    "import numpy as np\n",
    "from typing import Union\n",
    "import pandas as pd\n",
    "import streamlit as st\n",
    "import xgboost as xgb\n",
    "from sklearn.model_selection import train_test_split\n",
    "from sklearn.preprocessing import LabelEncoder\n",
    "from sklearn.metrics import accuracy_score, f1_score, mean_squared_error, r2_score"
   ]
  },
  {
   "cell_type": "code",
   "execution_count": 2,
   "id": "506f428f-0b36-49c5-a715-f48248d46dea",
   "metadata": {},
   "outputs": [],
   "source": [
    "def auto_problem_type(y:pd.Series)-> str:\n",
    "    if y.dtype==\"object\" or str(y.dtype).startswith(\"category\"):\n",
    "        return \"classification\"\n",
    "    nunique=y.nunique(dropna=True)\n",
    "    if nunique<=20:\n",
    "        return \"classification\"\n",
    "    return \"regression\""
   ]
  },
  {
   "cell_type": "code",
   "execution_count": 8,
   "id": "462174a0-19ac-45da-846f-d3a208c6f1d8",
   "metadata": {},
   "outputs": [],
   "source": [
    "def prepare_features(df:pd.DataFrame, target_col:str)->tuple[pd.DataFrame, Union[pd.Series, np.ndarray],str,dict]:\n",
    "    X=df.drop(columns=[target_col])\n",
    "    y=df[target_col]\n",
    "    problem=auto_problem_type(y)\n",
    "    \n",
    "    cat_cols=X.select_dtypes(include=[\"object\",\"category\"]).columns.tolist()\n",
    "    X_proc = pd.get_dummies(X, columns=cat_cols, dummy_na=False)\n",
    "\n",
    "    encoders={}\n",
    "    if problem==\"classification\":\n",
    "        le=LabelEncoder()\n",
    "        y_enc=le.fit_transform(y)\n",
    "        encoders[\"label_encoder\"]=le\n",
    "    else:\n",
    "        y_enc=y.astype(float).values\n",
    "    return X_proc, y_enc, problem, encoders"
   ]
  },
  {
   "cell_type": "code",
   "execution_count": 12,
   "id": "39a87ece-e4bc-4dc7-92bf-b778fa282c17",
   "metadata": {},
   "outputs": [],
   "source": [
    "def train_xgb(X: pd.DataFrame, y:Union[pd.Series, np.ndarray], problem:str, params:dict):\n",
    "    if problem==\"classification\":\n",
    "        model=xgb.XGBClassifier(\n",
    "            n_estimators=params.get(\"n_estimators\", 100),\n",
    "            max_depth=params.get(\"max_depth\",4),\n",
    "            learning_rate=params.get(\"learning_rate\",0.1),\n",
    "            colsample_bytree=params.get(\"subsample\",1.0),\n",
    "            random_state=params.get(\"random_state\",42),\n",
    "            n_jobs=-1,\n",
    "            tree_method=params.get(\"tree_method\",\"auto\"),\n",
    "            reg_lambda=params.get(\"reg_lambda\",1.0),\n",
    "        )\n",
    "    else:\n",
    "        model = xgb.XGBRegressor(\n",
    "            n_estimators=params.get(\"n_estimators\", 200),\n",
    "            max_depth=params.get(\"max_depth\", 5),\n",
    "            learning_rate=params.get(\"learning_rate\", 0.07),\n",
    "            subsample=params.get(\"subsample\", 1.0),\n",
    "            colsample_bytree=params.get(\"colsample_bytree\", 1.0),\n",
    "            random_state=params.get(\"random_state\", 42),\n",
    "            n_jobs=-1,\n",
    "            tree_method=params.get(\"tree_method\", \"auto\"),\n",
    "            reg_lambda=params.get(\"reg_lambda\", 1.0),\n",
    "        )\n",
    "\n",
    "    model.fit(X,y)\n",
    "    booster=model.get_booster()\n",
    "    booster.feature_names=list(X.columns)\n",
    "    booster.feature_types=None\n",
    "    return model\n"
   ]
  },
  {
   "cell_type": "code",
   "execution_count": 13,
   "id": "c80041bd-b1fe-4fbb-be65-0caaae37921d",
   "metadata": {},
   "outputs": [],
   "source": [
    "def eval_mode(model, X_test, y_test, problem:str):\n",
    "    y_pred=model.predict(X_test)\n",
    "    if problem==\"classification\":\n",
    "        acc=accuracy_score(y_test,y_pred)\n",
    "        f1=f1_score(y_test, y_pred, average=\"weighted\")\n",
    "        return {\"accuracy\": acc, \"f1_weighted\": f1}\n",
    "    else:\n",
    "        rmse=mean_squared_error(y_test, y_pred, squared=False)\n",
    "        r2=r2_score(y_test, y_pred)\n",
    "        return {\"rmse\":rmse, \"r2\": r2}\n"
   ]
  },
  {
   "cell_type": "code",
   "execution_count": 14,
   "id": "a7bbd062-0016-415c-9ecf-8ce9abfa44f0",
   "metadata": {},
   "outputs": [],
   "source": [
    "def get_num_trees(model) -> int:\n",
    "    booster = model.get_booster()\n",
    "    return len(booster.get_dump())"
   ]
  },
  {
   "cell_type": "code",
   "execution_count": null,
   "id": "af183e3f-9422-4c78-970d-ef9f28aceffc",
   "metadata": {},
   "outputs": [],
   "source": []
  }
 ],
 "metadata": {
  "kernelspec": {
   "display_name": "Python 3 (ipykernel)",
   "language": "python",
   "name": "python3"
  },
  "language_info": {
   "codemirror_mode": {
    "name": "ipython",
    "version": 3
   },
   "file_extension": ".py",
   "mimetype": "text/x-python",
   "name": "python",
   "nbconvert_exporter": "python",
   "pygments_lexer": "ipython3",
   "version": "3.12.1"
  }
 },
 "nbformat": 4,
 "nbformat_minor": 5
}
